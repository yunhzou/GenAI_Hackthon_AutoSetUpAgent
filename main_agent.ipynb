{
 "cells": [
  {
   "cell_type": "code",
   "execution_count": 1,
   "metadata": {},
   "outputs": [],
   "source": [
    "%load_ext autoreload\n",
    "%autoreload 2"
   ]
  },
  {
   "cell_type": "code",
   "execution_count": 2,
   "metadata": {},
   "outputs": [
    {
     "name": "stdout",
     "output_type": "stream",
     "text": [
      "Pinged your deployment. You successfully connected to MongoDB!\n"
     ]
    }
   ],
   "source": [
    "from Agent import LangGraphAgent"
   ]
  },
  {
   "cell_type": "code",
   "execution_count": 3,
   "metadata": {},
   "outputs": [
    {
     "name": "stdout",
     "output_type": "stream",
     "text": [
      "Deleted 25 documents from 'checkpoints' collection for thread_id 'GENAI_5'.\n",
      "Deleted 82 documents from 'checkpoint_writes' collection for thread_id 'GENAI_5'.\n"
     ]
    }
   ],
   "source": [
    "agent = LangGraphAgent(model=\"claude-3-7-sonnet-20250219\",session_id=\"GENAI_5\")\n",
    "agent.clear_memory()"
   ]
  },
  {
   "cell_type": "code",
   "execution_count": null,
   "metadata": {},
   "outputs": [
    {
     "name": "stdout",
     "output_type": "stream",
     "text": [
      "yunhengzou@mariana:~/genaihackthon$ PROMPT$ "
     ]
    }
   ],
   "source": [
    "from Tool.tools import read_webpage,execute_shell_command,ask_question_to_user,create_file"
   ]
  },
  {
   "cell_type": "code",
   "execution_count": 8,
   "metadata": {},
   "outputs": [],
   "source": [
    "agent.rewrite_system_message(\"You are a assistant that help setup code environment. You need to read installation instruction, create virtual environemnt, install dependencies, if certain API credentials required you should stop and ask user. By default, use micromamba instead of conda. Micromamba is directly installed and thus you do not need to check the installation. You must include -y during installation! (always yes because your shell tool doesn't support you to type in yes) Never try to find micromamba, you can run micromamba directly. Once a simple test indicate environment configured successfully, you do not need to test more, simply get back to user it already setted up\")"
   ]
  },
  {
   "cell_type": "code",
   "execution_count": 6,
   "metadata": {},
   "outputs": [],
   "source": [
    "agent.add_tool([read_webpage,execute_shell_command,ask_question_to_user])"
   ]
  },
  {
   "cell_type": "code",
   "execution_count": null,
   "metadata": {},
   "outputs": [
    {
     "name": "stdout",
     "output_type": "stream",
     "text": [
      "response\n",
      "The image shows the Google Chrome web browser icon. It's the familiar circular logo with the Google colors (red, yellow, green, and blue) arranged around a blue circle in the center. Below the icon is the text \"Google Chrome\" identifying the application.\n",
      "\n",
      "Google Chrome is one of the most popular web browsers worldwide, developed by Google. It's known for its speed, simplicity, and compatibility with various web technologies.\n",
      "GENAI_5\n",
      "default_name\n"
     ]
    }
   ],
   "source": [
    "result = agent.stream_return_graph_state(\"https://huggingface.co/apple/DepthPro, install this model and provide me a test example\",image_urls=[\"/h/399/yunhengzou/genaihackthon/test.png\"])"
   ]
  }
 ],
 "metadata": {
  "kernelspec": {
   "display_name": "el-agente",
   "language": "python",
   "name": "python3"
  },
  "language_info": {
   "codemirror_mode": {
    "name": "ipython",
    "version": 3
   },
   "file_extension": ".py",
   "mimetype": "text/x-python",
   "name": "python",
   "nbconvert_exporter": "python",
   "pygments_lexer": "ipython3",
   "version": "3.11.8"
  }
 },
 "nbformat": 4,
 "nbformat_minor": 2
}
