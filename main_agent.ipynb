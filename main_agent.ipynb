{
 "cells": [
  {
   "cell_type": "code",
   "execution_count": 1,
   "metadata": {},
   "outputs": [],
   "source": [
    "%load_ext autoreload\n",
    "%autoreload 2"
   ]
  },
  {
   "cell_type": "code",
   "execution_count": 2,
   "metadata": {},
   "outputs": [
    {
     "name": "stdout",
     "output_type": "stream",
     "text": [
      "Pinged your deployment. You successfully connected to MongoDB!\n"
     ]
    }
   ],
   "source": [
    "from Agent import LangGraphAgent"
   ]
  },
  {
   "cell_type": "code",
   "execution_count": 3,
   "metadata": {},
   "outputs": [],
   "source": [
    "agent = LangGraphAgent(model=\"claude-3-7-sonnet-20250219\",session_id=\"GENAI_2\")"
   ]
  },
  {
   "cell_type": "code",
   "execution_count": 4,
   "metadata": {},
   "outputs": [
    {
     "name": "stdout",
     "output_type": "stream",
     "text": [
      "bash-5.0$ PROMPT$ "
     ]
    }
   ],
   "source": [
    "from Tool.tools import multiply, read_webpage,execute_shell_command,ask_question_to_user"
   ]
  },
  {
   "cell_type": "code",
   "execution_count": null,
   "metadata": {},
   "outputs": [],
   "source": [
    "agent.rewrite_system_message(\"You are a assistant that help setup github repo. You need to read installation instruction, create virtual environemnt, install dependencies, if certain API credentials required you should stop and ask user. By default, use micromamba instead of conda. Micromamba is directly installed and thus you do not need to check the installation.\")"
   ]
  },
  {
   "cell_type": "code",
   "execution_count": 8,
   "metadata": {},
   "outputs": [],
   "source": [
    "agent.add_tool([read_webpage,execute_shell_command,ask_question_to_user])"
   ]
  },
  {
   "cell_type": "code",
   "execution_count": null,
   "metadata": {},
   "outputs": [
    {
     "name": "stdout",
     "output_type": "stream",
     "text": [
      "Tool call: read_webpage with args: {'url': 'https://github.com/rdkit/rdkit'}\n",
      "response\n",
      "content=[{'text': \"I'll help you install the RDKit GitHub repository in a new virtual environment. Let's start by reading the repository information and installation instructions.\", 'type': 'text'}, {'id': 'toolu_01HGFg2ijD4a1frhLatjUZHL', 'input': {'url': 'https://github.com/rdkit/rdkit'}, 'name': 'read_webpage', 'type': 'tool_use'}] additional_kwargs={} response_metadata={'id': 'msg_01Uu2nHLqjNGiVDcXfktPMEq', 'model': 'claude-3-7-sonnet-20250219', 'stop_reason': 'tool_use', 'stop_sequence': None, 'usage': {'cache_creation_input_tokens': 0, 'cache_read_input_tokens': 0, 'input_tokens': 637, 'output_tokens': 93}} id='run-35116a13-674d-4215-9e28-fed04a7dfb4a-0' tool_calls=[{'name': 'read_webpage', 'args': {'url': 'https://github.com/rdkit/rdkit'}, 'id': 'toolu_01HGFg2ijD4a1frhLatjUZHL', 'type': 'tool_call'}] usage_metadata={'input_tokens': 637, 'output_tokens': 93, 'total_tokens': 730, 'input_token_details': {'cache_read': 0, 'cache_creation': 0}}\n",
      "GENAI_2\n",
      "default_name\n",
      "Tool call: read_webpage with args: {'url': 'https://github.com/rdkit/rdkit/blob/master/Docs/Book/Install.md'}\n",
      "response\n",
      "content=[{'text': \"Now, let's look at the installation instructions in more detail:\", 'type': 'text'}, {'id': 'toolu_01WdJufeaX5Nk3rMgc4s87bB', 'input': {'url': 'https://github.com/rdkit/rdkit/blob/master/Docs/Book/Install.md'}, 'name': 'read_webpage', 'type': 'tool_use'}] additional_kwargs={} response_metadata={'id': 'msg_01BfSQ3YJZReMrb4fT3CeWy4', 'model': 'claude-3-7-sonnet-20250219', 'stop_reason': 'tool_use', 'stop_sequence': None, 'usage': {'cache_creation_input_tokens': 0, 'cache_read_input_tokens': 0, 'input_tokens': 20542, 'output_tokens': 91}} id='run-6407de02-7de3-4dec-bc3b-6ed0095ea216-0' tool_calls=[{'name': 'read_webpage', 'args': {'url': 'https://github.com/rdkit/rdkit/blob/master/Docs/Book/Install.md'}, 'id': 'toolu_01WdJufeaX5Nk3rMgc4s87bB', 'type': 'tool_call'}] usage_metadata={'input_tokens': 20542, 'output_tokens': 91, 'total_tokens': 20633, 'input_token_details': {'cache_read': 0, 'cache_creation': 0}}\n",
      "GENAI_2\n",
      "default_name\n",
      "Tool call: execute_shell_command with args: {'shell_command': 'which micromamba || echo \"micromamba not found\"'}\n",
      "response\n",
      "content=[{'text': \"Based on the repository information and installation instructions, I'll help you install RDKit in a new virtual environment using micromamba. Let's start by creating a new virtual environment and installing RDKit.\", 'type': 'text'}, {'id': 'toolu_01MNdGHYwjjfUucv1nydEY9Y', 'input': {'shell_command': 'which micromamba || echo \"micromamba not found\"'}, 'name': 'execute_shell_command', 'type': 'tool_use'}] additional_kwargs={} response_metadata={'id': 'msg_012W7mzjKd1XRQAmMGvwTGfy', 'model': 'claude-3-7-sonnet-20250219', 'stop_reason': 'tool_use', 'stop_sequence': None, 'usage': {'cache_creation_input_tokens': 0, 'cache_read_input_tokens': 0, 'input_tokens': 29073, 'output_tokens': 113}} id='run-ab35209d-fe77-4d24-9c68-71e862b8189e-0' tool_calls=[{'name': 'execute_shell_command', 'args': {'shell_command': 'which micromamba || echo \"micromamba not found\"'}, 'id': 'toolu_01MNdGHYwjjfUucv1nydEY9Y', 'type': 'tool_call'}] usage_metadata={'input_tokens': 29073, 'output_tokens': 113, 'total_tokens': 29186, 'input_token_details': {'cache_read': 0, 'cache_creation': 0}}\n",
      "GENAI_2\n",
      "default_name\n",
      "micromamba not found\n",
      "PROMPT$ Tool call: execute_shell_command with args: {'shell_command': 'which conda || echo \"conda not found\"'}\n",
      "response\n",
      "content=[{'text': \"Let's check if we have conda or mamba installed:\", 'type': 'text'}, {'id': 'toolu_01YVTyz1FzoLqCt6qe1ouYTi', 'input': {'shell_command': 'which conda || echo \"conda not found\"'}, 'name': 'execute_shell_command', 'type': 'tool_use'}] additional_kwargs={} response_metadata={'id': 'msg_013KQQgT3mWvnfBPkfYJHU9v', 'model': 'claude-3-7-sonnet-20250219', 'stop_reason': 'tool_use', 'stop_sequence': None, 'usage': {'cache_creation_input_tokens': 0, 'cache_read_input_tokens': 0, 'input_tokens': 29202, 'output_tokens': 79}} id='run-e740eb22-a0a2-459f-9cb8-9bb81bfd178a-0' tool_calls=[{'name': 'execute_shell_command', 'args': {'shell_command': 'which conda || echo \"conda not found\"'}, 'id': 'toolu_01YVTyz1FzoLqCt6qe1ouYTi', 'type': 'tool_call'}] usage_metadata={'input_tokens': 29202, 'output_tokens': 79, 'total_tokens': 29281, 'input_token_details': {'cache_read': 0, 'cache_creation': 0}}\n",
      "GENAI_2\n",
      "default_name\n",
      "conda not found\n",
      "PROMPT$ Tool call: execute_shell_command with args: {'shell_command': 'which mamba || echo \"mamba not found\"'}\n",
      "response\n",
      "content=[{'id': 'toolu_011mYsMCmBbMqSC43sea8DkL', 'input': {'shell_command': 'which mamba || echo \"mamba not found\"'}, 'name': 'execute_shell_command', 'type': 'tool_use'}] additional_kwargs={} response_metadata={'id': 'msg_016AT3YtrcSH4H6d6D9VNtiY', 'model': 'claude-3-7-sonnet-20250219', 'stop_reason': 'tool_use', 'stop_sequence': None, 'usage': {'cache_creation_input_tokens': 0, 'cache_read_input_tokens': 0, 'input_tokens': 29295, 'output_tokens': 68}} id='run-7943d018-6013-4482-9533-2ab144be0730-0' tool_calls=[{'name': 'execute_shell_command', 'args': {'shell_command': 'which mamba || echo \"mamba not found\"'}, 'id': 'toolu_011mYsMCmBbMqSC43sea8DkL', 'type': 'tool_call'}] usage_metadata={'input_tokens': 29295, 'output_tokens': 68, 'total_tokens': 29363, 'input_token_details': {'cache_read': 0, 'cache_creation': 0}}\n",
      "GENAI_2\n",
      "default_name\n",
      "mamba not found\n",
      "PROMPT$ Tool call: execute_shell_command with args: {'shell_command': 'curl -Ls https://micro.mamba.pm/api/micromamba/linux-64/latest | tar -xvj bin/micromamba'}\n",
      "response\n",
      "content=[{'text': \"We need to install micromamba first. Let's do that:\", 'type': 'text'}, {'id': 'toolu_01KoDrpxLMfbW1Y4ckq1zeQd', 'input': {'shell_command': 'curl -Ls https://micro.mamba.pm/api/micromamba/linux-64/latest | tar -xvj bin/micromamba'}, 'name': 'execute_shell_command', 'type': 'tool_use'}] additional_kwargs={} response_metadata={'id': 'msg_018Z35pdBjWDHGrFssVbmNcd', 'model': 'claude-3-7-sonnet-20250219', 'stop_reason': 'tool_use', 'stop_sequence': None, 'usage': {'cache_creation_input_tokens': 0, 'cache_read_input_tokens': 0, 'input_tokens': 29378, 'output_tokens': 107}} id='run-34c981e2-cc6a-4c2a-82ab-6fe60de08169-0' tool_calls=[{'name': 'execute_shell_command', 'args': {'shell_command': 'curl -Ls https://micro.mamba.pm/api/micromamba/linux-64/latest | tar -xvj bin/micromamba'}, 'id': 'toolu_01KoDrpxLMfbW1Y4ckq1zeQd', 'type': 'tool_call'}] usage_metadata={'input_tokens': 29378, 'output_tokens': 107, 'total_tokens': 29485, 'input_token_details': {'cache_read': 0, 'cache_creation': 0}}\n",
      "GENAI_2\n",
      "default_name\n",
      "bin/micromamba\n",
      "PROMPT$ Tool call: execute_shell_command with args: {'shell_command': 'mkdir -p ~/.local/bin\\nmv bin/micromamba ~/.local/bin/\\nexport PATH=$PATH:~/.local/bin\\nmkdir -p ~/.local/micromamba\\nexport MAMBA_ROOT_PREFIX=~/.local/micromamba\\neval \"$(~/.local/bin/micromamba shell hook -s bash)\"\\nmicromamba --version'}\n",
      "response\n",
      "content=[{'text': \"Now let's set up micromamba:\", 'type': 'text'}, {'id': 'toolu_013H9Ku3m9pd5RfVzL1zvdYY', 'input': {'shell_command': 'mkdir -p ~/.local/bin\\nmv bin/micromamba ~/.local/bin/\\nexport PATH=$PATH:~/.local/bin\\nmkdir -p ~/.local/micromamba\\nexport MAMBA_ROOT_PREFIX=~/.local/micromamba\\neval \"$(~/.local/bin/micromamba shell hook -s bash)\"\\nmicromamba --version'}, 'name': 'execute_shell_command', 'type': 'tool_use'}] additional_kwargs={} response_metadata={'id': 'msg_01WYPMWvCh2UFuJka5NT5EB1', 'model': 'claude-3-7-sonnet-20250219', 'stop_reason': 'tool_use', 'stop_sequence': None, 'usage': {'cache_creation_input_tokens': 0, 'cache_read_input_tokens': 0, 'input_tokens': 29501, 'output_tokens': 149}} id='run-48992183-1112-4944-91e3-a4b0fb8c8f2d-0' tool_calls=[{'name': 'execute_shell_command', 'args': {'shell_command': 'mkdir -p ~/.local/bin\\nmv bin/micromamba ~/.local/bin/\\nexport PATH=$PATH:~/.local/bin\\nmkdir -p ~/.local/micromamba\\nexport MAMBA_ROOT_PREFIX=~/.local/micromamba\\neval \"$(~/.local/bin/micromamba shell hook -s bash)\"\\nmicromamba --version'}, 'id': 'toolu_013H9Ku3m9pd5RfVzL1zvdYY', 'type': 'tool_call'}] usage_metadata={'input_tokens': 29501, 'output_tokens': 149, 'total_tokens': 29650, 'input_token_details': {'cache_read': 0, 'cache_creation': 0}}\n",
      "GENAI_2\n",
      "default_name\n",
      "PROMPT$ Tool call: execute_shell_command with args: {'shell_command': '~/.local/bin/micromamba --version'}\n",
      "response\n",
      "content=[{'text': \"Let's try again to check the micromamba version:\", 'type': 'text'}, {'id': 'toolu_01DyUcDryxugqLkyjLNpYEBN', 'input': {'shell_command': '~/.local/bin/micromamba --version'}, 'name': 'execute_shell_command', 'type': 'tool_use'}] additional_kwargs={} response_metadata={'id': 'msg_01KbxfiudnfFiAfFwPDDpLo2', 'model': 'claude-3-7-sonnet-20250219', 'stop_reason': 'tool_use', 'stop_sequence': None, 'usage': {'cache_creation_input_tokens': 0, 'cache_read_input_tokens': 0, 'input_tokens': 29675, 'output_tokens': 81}} id='run-942fe0db-4c44-41c2-a5fe-224a3a47b4b4-0' tool_calls=[{'name': 'execute_shell_command', 'args': {'shell_command': '~/.local/bin/micromamba --version'}, 'id': 'toolu_01DyUcDryxugqLkyjLNpYEBN', 'type': 'tool_call'}] usage_metadata={'input_tokens': 29675, 'output_tokens': 81, 'total_tokens': 29756, 'input_token_details': {'cache_read': 0, 'cache_creation': 0}}\n",
      "GENAI_2\n",
      "default_name\n",
      "PROMPT$ PROMPT$ PROMPT$ PROMPT$ PROMPT$ 2.0.8\n",
      "PROMPT$ Tool call: execute_shell_command with args: {'shell_command': 'wget -qO- https://micromamba.snakepit.net/api/micromamba/linux-64/latest | tar -xvj bin/micromamba'}\n",
      "response\n",
      "content=[{'text': \"Let's try a different approach to install micromamba:\", 'type': 'text'}, {'id': 'toolu_01HfLQqJNbL4nb3RdLQEh23j', 'input': {'shell_command': 'wget -qO- https://micromamba.snakepit.net/api/micromamba/linux-64/latest | tar -xvj bin/micromamba'}, 'name': 'execute_shell_command', 'type': 'tool_use'}] additional_kwargs={} response_metadata={'id': 'msg_01QMbpNcCGsu5fBu5QfXTgCt', 'model': 'claude-3-7-sonnet-20250219', 'stop_reason': 'tool_use', 'stop_sequence': None, 'usage': {'cache_creation_input_tokens': 0, 'cache_read_input_tokens': 0, 'input_tokens': 29781, 'output_tokens': 109}} id='run-0c23b407-6e1c-4580-85f8-9d86c3755ddf-0' tool_calls=[{'name': 'execute_shell_command', 'args': {'shell_command': 'wget -qO- https://micromamba.snakepit.net/api/micromamba/linux-64/latest | tar -xvj bin/micromamba'}, 'id': 'toolu_01HfLQqJNbL4nb3RdLQEh23j', 'type': 'tool_call'}] usage_metadata={'input_tokens': 29781, 'output_tokens': 109, 'total_tokens': 29890, 'input_token_details': {'cache_read': 0, 'cache_creation': 0}}\n",
      "GENAI_2\n",
      "default_name\n"
     ]
    }
   ],
   "source": [
    "result = agent.stream_return_graph_state(\"Read this github repo https://github.com/rdkit/rdkit and install it. make sure create new virtual venv\")"
   ]
  },
  {
   "cell_type": "code",
   "execution_count": 26,
   "metadata": {},
   "outputs": [
    {
     "name": "stdout",
     "output_type": "stream",
     "text": [
      "Deleted 8 documents from 'checkpoints' collection for thread_id 'GENAI_0'.\n",
      "Deleted 23 documents from 'checkpoint_writes' collection for thread_id 'GENAI_0'.\n"
     ]
    }
   ],
   "source": [
    "agent.clear_memory()"
   ]
  }
 ],
 "metadata": {
  "kernelspec": {
   "display_name": "el-agente",
   "language": "python",
   "name": "python3"
  },
  "language_info": {
   "codemirror_mode": {
    "name": "ipython",
    "version": 3
   },
   "file_extension": ".py",
   "mimetype": "text/x-python",
   "name": "python",
   "nbconvert_exporter": "python",
   "pygments_lexer": "ipython3",
   "version": "3.11.8"
  }
 },
 "nbformat": 4,
 "nbformat_minor": 2
}
