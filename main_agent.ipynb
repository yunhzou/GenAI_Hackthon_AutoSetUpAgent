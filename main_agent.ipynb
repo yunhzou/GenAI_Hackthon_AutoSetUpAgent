{
 "cells": [
  {
   "cell_type": "code",
   "execution_count": 5,
   "metadata": {},
   "outputs": [
    {
     "name": "stdout",
     "output_type": "stream",
     "text": [
      "yunhengzou@mariana:~/genaihackthon$ PROMPT$ PROMPT$ The autoreload extension is already loaded. To reload it, use:\n",
      "  %reload_ext autoreload\n"
     ]
    }
   ],
   "source": [
    "%load_ext autoreload\n",
    "%autoreload 2"
   ]
  },
  {
   "cell_type": "code",
   "execution_count": null,
   "metadata": {},
   "outputs": [
    {
     "ename": "TypeError",
     "evalue": "EvoForge.__init__() got an unexpected keyword argument 'tools'",
     "output_type": "error",
     "traceback": [
      "\u001b[31m---------------------------------------------------------------------------\u001b[39m",
      "\u001b[31mTypeError\u001b[39m                                 Traceback (most recent call last)",
      "\u001b[36mCell\u001b[39m\u001b[36m \u001b[39m\u001b[32mIn[6]\u001b[39m\u001b[32m, line 3\u001b[39m\n\u001b[32m      1\u001b[39m \u001b[38;5;28;01mfrom\u001b[39;00m\u001b[38;5;250m \u001b[39m\u001b[34;01mEvoForge\u001b[39;00m\u001b[38;5;250m \u001b[39m\u001b[38;5;28;01mimport\u001b[39;00m EvoForge  \n\u001b[32m      2\u001b[39m \u001b[38;5;28;01mfrom\u001b[39;00m\u001b[38;5;250m \u001b[39m\u001b[34;01mEvoForge\u001b[39;00m\u001b[34;01m.\u001b[39;00m\u001b[34;01mTool\u001b[39;00m\u001b[34;01m.\u001b[39;00m\u001b[34;01mtools\u001b[39;00m\u001b[38;5;250m \u001b[39m\u001b[38;5;28;01mimport\u001b[39;00m read_webpage,execute_shell_command,ask_question_to_user,create_file\n\u001b[32m----> \u001b[39m\u001b[32m3\u001b[39m evoforge_client = \u001b[43mEvoForge\u001b[49m\u001b[43m(\u001b[49m\u001b[43mtools\u001b[49m\u001b[43m=\u001b[49m\u001b[43m[\u001b[49m\u001b[43mread_webpage\u001b[49m\u001b[43m,\u001b[49m\u001b[43mexecute_shell_command\u001b[49m\u001b[43m,\u001b[49m\u001b[43mask_question_to_user\u001b[49m\u001b[43m]\u001b[49m\u001b[43m)\u001b[49m\n",
      "\u001b[31mTypeError\u001b[39m: EvoForge.__init__() got an unexpected keyword argument 'tools'"
     ]
    }
   ],
   "source": [
    "from EvoForge import EvoForge  \n",
    "from EvoForge.Tool.tools import read_webpage,execute_shell_command,ask_question_to_user,create_file\n",
    "evoforge_client = EvoForge()"
   ]
  },
  {
   "cell_type": "code",
   "execution_count": 4,
   "metadata": {},
   "outputs": [
    {
     "name": "stdout",
     "output_type": "stream",
     "text": [
      "Deleted 2 documents from 'checkpoints' collection for thread_id 'EvoForge0'.\n",
      "Deleted 3 documents from 'checkpoint_writes' collection for thread_id 'EvoForge0'.\n"
     ]
    }
   ],
   "source": [
    "agent = evoforge_client.spawn_agent(session=\"EvoForge0\")\n",
    "agent.clear_memory()"
   ]
  },
  {
   "cell_type": "code",
   "execution_count": null,
   "metadata": {},
   "outputs": [
    {
     "name": "stdout",
     "output_type": "stream",
     "text": [
      "response\n",
      "The image shows the Google Chrome web browser icon. It's the familiar circular logo with the Google colors (red, yellow, green, and blue) arranged around a blue circle in the center. Below the icon is the text \"Google Chrome\" identifying the application.\n",
      "\n",
      "Google Chrome is one of the most popular web browsers worldwide, developed by Google. It's known for its speed, simplicity, and compatibility with various web technologies.\n",
      "GENAI_5\n",
      "default_name\n"
     ]
    }
   ],
   "source": [
    "result = agent.stream_return_graph_state(\"https://huggingface.co/apple/DepthPro, install this model and provide me a test example\",image_urls=[\"/h/399/yunhengzou/genaihackthon/test.png\"])"
   ]
  }
 ],
 "metadata": {
  "kernelspec": {
   "display_name": "el-agente",
   "language": "python",
   "name": "python3"
  },
  "language_info": {
   "codemirror_mode": {
    "name": "ipython",
    "version": 3
   },
   "file_extension": ".py",
   "mimetype": "text/x-python",
   "name": "python",
   "nbconvert_exporter": "python",
   "pygments_lexer": "ipython3",
   "version": "3.11.8"
  }
 },
 "nbformat": 4,
 "nbformat_minor": 2
}
