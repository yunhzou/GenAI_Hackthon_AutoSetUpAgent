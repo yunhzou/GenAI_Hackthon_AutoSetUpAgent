{
 "cells": [
  {
   "cell_type": "code",
   "execution_count": 1,
   "metadata": {},
   "outputs": [],
   "source": [
    "%load_ext autoreload\n",
    "%autoreload 2"
   ]
  },
  {
   "cell_type": "code",
   "execution_count": 2,
   "metadata": {},
   "outputs": [
    {
     "name": "stdout",
     "output_type": "stream",
     "text": [
      "Pinged your deployment. You successfully connected to MongoDB!\n"
     ]
    }
   ],
   "source": [
    "from Agent import LangGraphAgent"
   ]
  },
  {
   "cell_type": "code",
   "execution_count": 3,
   "metadata": {},
   "outputs": [
    {
     "name": "stdout",
     "output_type": "stream",
     "text": [
      "Deleted 1 documents from 'checkpoints' collection for thread_id 'GENAI_5'.\n",
      "Deleted 0 documents from 'checkpoint_writes' collection for thread_id 'GENAI_5'.\n"
     ]
    }
   ],
   "source": [
    "agent = LangGraphAgent(model=\"claude-3-7-sonnet-20250219\",session_id=\"GENAI_5\")\n",
    "agent.clear_memory()"
   ]
  },
  {
   "cell_type": "code",
   "execution_count": 4,
   "metadata": {},
   "outputs": [
    {
     "name": "stdout",
     "output_type": "stream",
     "text": [
      "yunhengzou@mariana:~/genaihackthon$ PROMPT$ "
     ]
    }
   ],
   "source": [
    "from Tool.tools import multiply, read_webpage,execute_shell_command,ask_question_to_user"
   ]
  },
  {
   "cell_type": "code",
   "execution_count": 5,
   "metadata": {},
   "outputs": [],
   "source": [
    "agent.rewrite_system_message(\"You are a assistant that help setup github repo. You need to read installation instruction, create virtual environemnt, install dependencies, if certain API credentials required you should stop and ask user. By default, use micromamba instead of conda. Micromamba is directly installed and thus you do not need to check the installation. You must include -y during installation! (always yes because your shell tool doesn't support you to type in yes)\")"
   ]
  },
  {
   "cell_type": "code",
   "execution_count": 6,
   "metadata": {},
   "outputs": [],
   "source": [
    "agent.add_tool([read_webpage,execute_shell_command,ask_question_to_user])"
   ]
  },
  {
   "cell_type": "code",
   "execution_count": 7,
   "metadata": {},
   "outputs": [
    {
     "data": {
      "text/plain": [
       "\"You are a assistant that help setup github repo. You need to read installation instruction, create virtual environemnt, install dependencies, if certain API credentials required you should stop and ask user. By default, use micromamba instead of conda. Micromamba is directly installed and thus you do not need to check the installation. You must include -y during installation! (always yes because your shell tool doesn't support you to type in yes)\""
      ]
     },
     "execution_count": 7,
     "metadata": {},
     "output_type": "execute_result"
    }
   ],
   "source": [
    "agent.system_message"
   ]
  },
  {
   "cell_type": "code",
   "execution_count": null,
   "metadata": {},
   "outputs": [
    {
     "name": "stdout",
     "output_type": "stream",
     "text": [
      "Tool call: read_webpage with args: {'url': 'https://github.com/rdkit/rdkit'}\n",
      "response\n",
      "content=[{'text': \"I'll help you install the RDKit GitHub repository using micromamba. Let me first read the repository to understand the installation instructions.\", 'type': 'text'}, {'id': 'toolu_01T4FRaAuMp6x8TnRKU3nWjc', 'input': {'url': 'https://github.com/rdkit/rdkit'}, 'name': 'read_webpage', 'type': 'tool_use'}] additional_kwargs={} response_metadata={'id': 'msg_01A5XUcXVMdKryc5rAnEhtcZ', 'model': 'claude-3-7-sonnet-20250219', 'stop_reason': 'tool_use', 'stop_sequence': None, 'usage': {'cache_creation_input_tokens': 0, 'cache_read_input_tokens': 0, 'input_tokens': 685, 'output_tokens': 92}} id='run-f6e43e2e-1d7c-4f1e-99f1-271a37f1cbf5-0' tool_calls=[{'name': 'read_webpage', 'args': {'url': 'https://github.com/rdkit/rdkit'}, 'id': 'toolu_01T4FRaAuMp6x8TnRKU3nWjc', 'type': 'tool_call'}] usage_metadata={'input_tokens': 685, 'output_tokens': 92, 'total_tokens': 777, 'input_token_details': {'cache_read': 0, 'cache_creation': 0}}\n",
      "GENAI_5\n",
      "default_name\n",
      "Tool call: read_webpage with args: {'url': 'https://github.com/rdkit/rdkit/blob/master/Docs/Book/Install.md'}\n",
      "response\n",
      "content=[{'text': 'Now, let me check the installation instructions in more detail:', 'type': 'text'}, {'id': 'toolu_01N1b1fCkGwnP3dhwVkkR8oA', 'input': {'url': 'https://github.com/rdkit/rdkit/blob/master/Docs/Book/Install.md'}, 'name': 'read_webpage', 'type': 'tool_use'}] additional_kwargs={} response_metadata={'id': 'msg_014frZ28VfywFQjSiJovAZxu', 'model': 'claude-3-7-sonnet-20250219', 'stop_reason': 'tool_use', 'stop_sequence': None, 'usage': {'cache_creation_input_tokens': 0, 'cache_read_input_tokens': 0, 'input_tokens': 20589, 'output_tokens': 90}} id='run-b30c0083-e81c-46bb-b9b6-7eea7f6a0310-0' tool_calls=[{'name': 'read_webpage', 'args': {'url': 'https://github.com/rdkit/rdkit/blob/master/Docs/Book/Install.md'}, 'id': 'toolu_01N1b1fCkGwnP3dhwVkkR8oA', 'type': 'tool_call'}] usage_metadata={'input_tokens': 20589, 'output_tokens': 90, 'total_tokens': 20679, 'input_token_details': {'cache_read': 0, 'cache_creation': 0}}\n",
      "GENAI_5\n",
      "default_name\n",
      "Tool call: execute_shell_command with args: {'shell_command': 'micromamba create -n rdkit-env -y'}\n",
      "response\n",
      "content=[{'text': \"Based on the information I've gathered, I'll now help you install RDKit using micromamba. Let's start by creating a new virtual environment and installing RDKit.\", 'type': 'text'}, {'id': 'toolu_011ZZSWvDxr27fFhxxrXgrDo', 'input': {'shell_command': 'micromamba create -n rdkit-env -y'}, 'name': 'execute_shell_command', 'type': 'tool_use'}] additional_kwargs={} response_metadata={'id': 'msg_01J2Eokc84uVzXx3HJWTtZKH', 'model': 'claude-3-7-sonnet-20250219', 'stop_reason': 'tool_use', 'stop_sequence': None, 'usage': {'cache_creation_input_tokens': 0, 'cache_read_input_tokens': 0, 'input_tokens': 29119, 'output_tokens': 107}} id='run-e43427cc-1a17-4678-b25e-a81ffe731a89-0' tool_calls=[{'name': 'execute_shell_command', 'args': {'shell_command': 'micromamba create -n rdkit-env -y'}, 'id': 'toolu_011ZZSWvDxr27fFhxxrXgrDo', 'type': 'tool_call'}] usage_metadata={'input_tokens': 29119, 'output_tokens': 107, 'total_tokens': 29226, 'input_token_details': {'cache_read': 0, 'cache_creation': 0}}\n",
      "GENAI_5\n",
      "default_name\n",
      "\u001b[33m\u001b[1mwarning  libmamba\u001b[m Error creating directory \"/h/328/yunhengzou/micromamba/envs\": filesystem error: cannot create directories: Permission denied [/h/328/yunhengzou/micromamba/envs]\n",
      "    \n",
      "\u001b[1m\u001b[41mcritical libmamba\u001b[m filesystem error: cannot create directories: Permission denied [/h/328/yunhengzou/micromamba/envs/rdkit-env/conda-meta]\n",
      "PROMPT$ Tool call: execute_shell_command with args: {'shell_command': 'mkdir -p ~/micromamba/envs'}\n",
      "response\n",
      "content=[{'text': \"It seems there's a permission issue with the default micromamba directory. Let's create the environment in a location where you have write permissions:\", 'type': 'text'}, {'id': 'toolu_01WtmTRPRtAJyjC7nV1DgF6y', 'input': {'shell_command': 'mkdir -p ~/micromamba/envs'}, 'name': 'execute_shell_command', 'type': 'tool_use'}] additional_kwargs={} response_metadata={'id': 'msg_01WD9sXQ6gPsWC7fVEGyX5cZ', 'model': 'claude-3-7-sonnet-20250219', 'stop_reason': 'tool_use', 'stop_sequence': None, 'usage': {'cache_creation_input_tokens': 0, 'cache_read_input_tokens': 0, 'input_tokens': 29352, 'output_tokens': 97}} id='run-5af69cde-5f3f-49f5-9481-b35893fe51b4-0' tool_calls=[{'name': 'execute_shell_command', 'args': {'shell_command': 'mkdir -p ~/micromamba/envs'}, 'id': 'toolu_01WtmTRPRtAJyjC7nV1DgF6y', 'type': 'tool_call'}] usage_metadata={'input_tokens': 29352, 'output_tokens': 97, 'total_tokens': 29449, 'input_token_details': {'cache_read': 0, 'cache_creation': 0}}\n",
      "GENAI_5\n",
      "default_name\n",
      "PROMPT$ Tool call: execute_shell_command with args: {'shell_command': 'micromamba create -p ~/micromamba/envs/rdkit-env -y'}\n",
      "response\n",
      "content=[{'id': 'toolu_01LMFYsR35uYLALHinhb5YkP', 'input': {'shell_command': 'micromamba create -p ~/micromamba/envs/rdkit-env -y'}, 'name': 'execute_shell_command', 'type': 'tool_use'}] additional_kwargs={} response_metadata={'id': 'msg_01MSRvckvXePtrrtF7uX7idU', 'model': 'claude-3-7-sonnet-20250219', 'stop_reason': 'tool_use', 'stop_sequence': None, 'usage': {'cache_creation_input_tokens': 0, 'cache_read_input_tokens': 0, 'input_tokens': 29474, 'output_tokens': 77}} id='run-631d99c4-db45-46dc-904d-20d336d45189-0' tool_calls=[{'name': 'execute_shell_command', 'args': {'shell_command': 'micromamba create -p ~/micromamba/envs/rdkit-env -y'}, 'id': 'toolu_01LMFYsR35uYLALHinhb5YkP', 'type': 'tool_call'}] usage_metadata={'input_tokens': 29474, 'output_tokens': 77, 'total_tokens': 29551, 'input_token_details': {'cache_read': 0, 'cache_creation': 0}}\n",
      "GENAI_5\n",
      "default_name\n",
      "Empty environment created at prefix: /h/399/yunhengzou/micromamba/envs/rdkit-env\n",
      "PROMPT$ "
     ]
    }
   ],
   "source": [
    "result = agent.stream_return_graph_state(\"Read this github repo https://github.com/rdkit/rdkit and install it. make sure create new virtual environemnt with micromamba\")"
   ]
  }
 ],
 "metadata": {
  "kernelspec": {
   "display_name": "el-agente",
   "language": "python",
   "name": "python3"
  },
  "language_info": {
   "codemirror_mode": {
    "name": "ipython",
    "version": 3
   },
   "file_extension": ".py",
   "mimetype": "text/x-python",
   "name": "python",
   "nbconvert_exporter": "python",
   "pygments_lexer": "ipython3",
   "version": "3.11.8"
  }
 },
 "nbformat": 4,
 "nbformat_minor": 2
}
