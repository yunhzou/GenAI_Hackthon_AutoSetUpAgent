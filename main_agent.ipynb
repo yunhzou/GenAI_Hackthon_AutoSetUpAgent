{
 "cells": [
  {
   "cell_type": "code",
   "execution_count": 1,
   "metadata": {},
   "outputs": [],
   "source": [
    "%load_ext autoreload\n",
    "%autoreload 2"
   ]
  },
  {
   "cell_type": "code",
   "execution_count": 2,
   "metadata": {},
   "outputs": [
    {
     "name": "stdout",
     "output_type": "stream",
     "text": [
      "Pinged your deployment. You successfully connected to MongoDB!\n"
     ]
    }
   ],
   "source": [
    "from Agent import LangGraphAgent"
   ]
  },
  {
   "cell_type": "code",
   "execution_count": 3,
   "metadata": {},
   "outputs": [],
   "source": [
    "agent = LangGraphAgent(model=\"claude-3-7-sonnet-20250219\",session_id=\"GENAI_0\")"
   ]
  },
  {
   "cell_type": "code",
   "execution_count": null,
   "metadata": {},
   "outputs": [],
   "source": [
    "from Tool.tools import multiply, read_webpage,execute_shell_command,ask_question_to_user"
   ]
  },
  {
   "cell_type": "code",
   "execution_count": null,
   "metadata": {},
   "outputs": [],
   "source": [
    "agent.rewrite_system_message(\"You are a assistant that help setup github repo. You need to read installation instruction, create virtual environemnt, install dependencies, if certain API credentials required you should stop and ask user.\")"
   ]
  },
  {
   "cell_type": "code",
   "execution_count": null,
   "metadata": {},
   "outputs": [],
   "source": [
    "agent.add_tool([read_webpage,execute_shell_command,ask_question_to_user])"
   ]
  },
  {
   "cell_type": "code",
   "execution_count": 7,
   "metadata": {},
   "outputs": [
    {
     "name": "stdout",
     "output_type": "stream",
     "text": [
      "Tool call: read_webpage with args: {'url': 'https://github.com/mannaandpoem/OpenManus'}\n",
      "response\n",
      "content=[{'text': \"I'll help you read the GitHub repository and provide step-by-step instructions for setting up the OpenManus project. Let me access the repository first.\", 'type': 'text'}, {'id': 'toolu_01CR6znad9FLYkQC5Jr3BoCy', 'input': {'url': 'https://github.com/mannaandpoem/OpenManus'}, 'name': 'read_webpage', 'type': 'tool_use'}] additional_kwargs={} response_metadata={'id': 'msg_01DLScArC48Nh2gXpzoxMbo8', 'model': 'claude-3-7-sonnet-20250219', 'stop_reason': 'tool_use', 'stop_sequence': None, 'usage': {'cache_creation_input_tokens': 0, 'cache_read_input_tokens': 0, 'input_tokens': 438, 'output_tokens': 100}} id='run-92a9ec01-060e-4fbd-bbaf-22b068714188-0' tool_calls=[{'name': 'read_webpage', 'args': {'url': 'https://github.com/mannaandpoem/OpenManus'}, 'id': 'toolu_01CR6znad9FLYkQC5Jr3BoCy', 'type': 'tool_call'}] usage_metadata={'input_tokens': 438, 'output_tokens': 100, 'total_tokens': 538, 'input_token_details': {'cache_read': 0, 'cache_creation': 0}}\n",
      "GENAI_0\n",
      "default_name\n",
      "Tool call: read_webpage with args: {'url': 'https://github.com/mannaandpoem/OpenManus/blob/main/README.md'}\n",
      "response\n",
      "content=[{'text': 'Let me check the README.md file to get more detailed information about the setup process.', 'type': 'text'}, {'id': 'toolu_013MtmcBJC2WjfTnsfjjLEX5', 'input': {'url': 'https://github.com/mannaandpoem/OpenManus/blob/main/README.md'}, 'name': 'read_webpage', 'type': 'tool_use'}] additional_kwargs={} response_metadata={'id': 'msg_012PZw4GBXHZm5pM75GVsFHT', 'model': 'claude-3-7-sonnet-20250219', 'stop_reason': 'tool_use', 'stop_sequence': None, 'usage': {'cache_creation_input_tokens': 0, 'cache_read_input_tokens': 0, 'input_tokens': 11225, 'output_tokens': 95}} id='run-9366ba13-40e5-4baa-9ae2-27fcc4b333ae-0' tool_calls=[{'name': 'read_webpage', 'args': {'url': 'https://github.com/mannaandpoem/OpenManus/blob/main/README.md'}, 'id': 'toolu_013MtmcBJC2WjfTnsfjjLEX5', 'type': 'tool_call'}] usage_metadata={'input_tokens': 11225, 'output_tokens': 95, 'total_tokens': 11320, 'input_token_details': {'cache_read': 0, 'cache_creation': 0}}\n",
      "GENAI_0\n",
      "default_name\n",
      "Tool call: read_webpage with args: {'url': 'https://github.com/mannaandpoem/OpenManus/blob/main/config/config.example.toml'}\n",
      "response\n",
      "content=[{'text': 'Let me also check the configuration example file to understand what needs to be configured:', 'type': 'text'}, {'id': 'toolu_01VHaQ3NsDpQ3qdtnV8TqzST', 'input': {'url': 'https://github.com/mannaandpoem/OpenManus/blob/main/config/config.example.toml'}, 'name': 'read_webpage', 'type': 'tool_use'}] additional_kwargs={} response_metadata={'id': 'msg_01NgQYC163phcB6ywTCnzMAz', 'model': 'claude-3-7-sonnet-20250219', 'stop_reason': 'tool_use', 'stop_sequence': None, 'usage': {'cache_creation_input_tokens': 0, 'cache_read_input_tokens': 0, 'input_tokens': 13865, 'output_tokens': 98}} id='run-99adfcea-e799-4aff-b166-b5a26c9d6b39-0' tool_calls=[{'name': 'read_webpage', 'args': {'url': 'https://github.com/mannaandpoem/OpenManus/blob/main/config/config.example.toml'}, 'id': 'toolu_01VHaQ3NsDpQ3qdtnV8TqzST', 'type': 'tool_call'}] usage_metadata={'input_tokens': 13865, 'output_tokens': 98, 'total_tokens': 13963, 'input_token_details': {'cache_read': 0, 'cache_creation': 0}}\n",
      "GENAI_0\n",
      "default_name\n",
      "Tool call: read_webpage with args: {'url': 'https://github.com/mannaandpoem/OpenManus/blob/main/requirements.txt'}\n",
      "response\n",
      "content=[{'text': 'Let me also check if there are any additional requirements for the browser automation tool:', 'type': 'text'}, {'id': 'toolu_01LHHMf3ptvqNY1o5hfgp2m9', 'input': {'url': 'https://github.com/mannaandpoem/OpenManus/blob/main/requirements.txt'}, 'name': 'read_webpage', 'type': 'tool_use'}] additional_kwargs={} response_metadata={'id': 'msg_01GqbDjqmCSeU5Uy4pYmT5dT', 'model': 'claude-3-7-sonnet-20250219', 'stop_reason': 'tool_use', 'stop_sequence': None, 'usage': {'cache_creation_input_tokens': 0, 'cache_read_input_tokens': 0, 'input_tokens': 18485, 'output_tokens': 93}} id='run-4d1fcf06-9da4-496d-9a8e-ba40f7901f15-0' tool_calls=[{'name': 'read_webpage', 'args': {'url': 'https://github.com/mannaandpoem/OpenManus/blob/main/requirements.txt'}, 'id': 'toolu_01LHHMf3ptvqNY1o5hfgp2m9', 'type': 'tool_call'}] usage_metadata={'input_tokens': 18485, 'output_tokens': 93, 'total_tokens': 18578, 'input_token_details': {'cache_read': 0, 'cache_creation': 0}}\n",
      "GENAI_0\n",
      "default_name\n",
      "response\n",
      "Based on the information gathered from the GitHub repository, I'll provide step-by-step instructions for setting up the OpenManus project:\n",
      "\n",
      "# How to Setup OpenManus Project\n",
      "\n",
      "## Step 1: Clone the Repository\n",
      "```bash\n",
      "git clone https://github.com/mannaandpoem/OpenManus.git\n",
      "cd OpenManus\n",
      "```\n",
      "\n",
      "## Step 2: Choose an Installation Method\n",
      "\n",
      "### Method 1: Using Conda\n",
      "1. Create a new conda environment:\n",
      "```bash\n",
      "conda create -n open_manus python=3.12\n",
      "conda activate open_manus\n",
      "```\n",
      "\n",
      "2. Install dependencies:\n",
      "```bash\n",
      "pip install -r requirements.txt\n",
      "```\n",
      "\n",
      "### Method 2: Using uv (Recommended)\n",
      "1. Install uv (A fast Python package installer and resolver):\n",
      "```bash\n",
      "curl -LsSf https://astral.sh/uv/install.sh | sh\n",
      "```\n",
      "\n",
      "2. Create a new virtual environment and activate it:\n",
      "```bash\n",
      "uv venv --python 3.12\n",
      "source .venv/bin/activate  # On Unix/macOS\n",
      "# Or on Windows:\n",
      "# .venv\\Scripts\\activate\n",
      "```\n",
      "\n",
      "3. Install dependencies:\n",
      "```bash\n",
      "uv pip install -r requirements.txt\n",
      "```\n",
      "\n",
      "## Step 3: Install Browser Automation Tool (Optional)\n",
      "If you plan to use browser automation features:\n",
      "```bash\n",
      "playwright install\n",
      "```\n",
      "\n",
      "## Step 4: Configure the LLM API\n",
      "1. Create a configuration file by copying the example:\n",
      "```bash\n",
      "cp config/config.example.toml config/config.toml\n",
      "```\n",
      "\n",
      "2. Edit the `config/config.toml` file to add your API keys and customize settings:\n",
      "   - Open the file in your preferred text editor\n",
      "   - Update the `api_key` field with your actual API key (OpenAI, Anthropic, etc.)\n",
      "   - Adjust other settings as needed (model, temperature, etc.)\n",
      "\n",
      "Example configuration:\n",
      "```toml\n",
      "# Global LLM configuration\n",
      "[llm]\n",
      "model = \"gpt-4o\"  # Or any other model you prefer\n",
      "base_url = \"https://api.openai.com/v1\"\n",
      "api_key = \"your-api-key-here\"  # Replace with your actual API key\n",
      "max_tokens = 4096\n",
      "temperature = 0.0\n",
      "\n",
      "# Optional configuration for specific LLM models\n",
      "[llm.vision]\n",
      "model = \"gpt-4o\"\n",
      "base_url = \"https://api.openai.com/v1\"\n",
      "api_key = \"your-api-key-here\"  # Replace with your actual API key\n",
      "```\n",
      "\n",
      "## Step 5: Run OpenManus\n",
      "There are several ways to run OpenManus depending on your needs:\n",
      "\n",
      "1. Basic version:\n",
      "```bash\n",
      "python main.py\n",
      "```\n",
      "\n",
      "2. MCP tool version:\n",
      "```bash\n",
      "python run_mcp.py\n",
      "```\n",
      "\n",
      "3. Unstable multi-agent version:\n",
      "```bash\n",
      "python run_flow.py\n",
      "```\n",
      "\n",
      "After running any of these commands, you can input your idea via the terminal and interact with the AI agent.\n",
      "\n",
      "## Additional Notes:\n",
      "- The project requires Python 3.12\n",
      "- Make sure you have valid API keys for the LLM services you plan to use\n",
      "- For browser automation features, Playwright needs to be installed\n",
      "- The workspace directory is used for storing files generated during the agent's operation\n",
      "- If you encounter any issues, check the project's GitHub Issues section or join their Discord community\n",
      "\n",
      "That's it! You should now have OpenManus set up and ready to use on your system.\n",
      "GENAI_0\n",
      "default_name\n"
     ]
    }
   ],
   "source": [
    "result = agent.stream_return_graph_state(\"Read this github repo and tell me in step by step format how to setup this project: https://github.com/mannaandpoem/OpenManus\")"
   ]
  },
  {
   "cell_type": "code",
   "execution_count": 26,
   "metadata": {},
   "outputs": [
    {
     "name": "stdout",
     "output_type": "stream",
     "text": [
      "Deleted 8 documents from 'checkpoints' collection for thread_id 'GENAI_0'.\n",
      "Deleted 23 documents from 'checkpoint_writes' collection for thread_id 'GENAI_0'.\n"
     ]
    }
   ],
   "source": [
    "agent.clear_memory()"
   ]
  }
 ],
 "metadata": {
  "kernelspec": {
   "display_name": "el-agente",
   "language": "python",
   "name": "python3"
  },
  "language_info": {
   "codemirror_mode": {
    "name": "ipython",
    "version": 3
   },
   "file_extension": ".py",
   "mimetype": "text/x-python",
   "name": "python",
   "nbconvert_exporter": "python",
   "pygments_lexer": "ipython3",
   "version": "3.11.8"
  }
 },
 "nbformat": 4,
 "nbformat_minor": 2
}
