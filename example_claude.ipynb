{
 "cells": [
  {
   "cell_type": "code",
   "execution_count": 1,
   "metadata": {},
   "outputs": [],
   "source": [
    "%load_ext autoreload\n",
    "%autoreload 2"
   ]
  },
  {
   "cell_type": "code",
   "execution_count": 2,
   "metadata": {},
   "outputs": [
    {
     "name": "stdout",
     "output_type": "stream",
     "text": [
      "Pinged your deployment. You successfully connected to MongoDB!\n"
     ]
    }
   ],
   "source": [
    "from Agent import LangGraphAgent"
   ]
  },
  {
   "cell_type": "code",
   "execution_count": 3,
   "metadata": {},
   "outputs": [],
   "source": [
    "agent = LangGraphAgent(model=\"claude-3-7-sonnet-20250219\",session_id=\"GENAI_1\")"
   ]
  },
  {
   "cell_type": "code",
   "execution_count": 4,
   "metadata": {},
   "outputs": [],
   "source": [
    "from Tool.tools import multiply"
   ]
  },
  {
   "cell_type": "code",
   "execution_count": 5,
   "metadata": {},
   "outputs": [],
   "source": [
    "agent.add_tool(multiply)"
   ]
  },
  {
   "cell_type": "code",
   "execution_count": 6,
   "metadata": {},
   "outputs": [
    {
     "name": "stdout",
     "output_type": "stream",
     "text": [
      "Tool call: multiply with args: {'a': 29349, 'b': 2893479}\n",
      "response\n",
      "content=[{'text': \"I'll calculate the multiplication of 29349 and 2893479 for you.\", 'type': 'text'}, {'id': 'toolu_01NpjrBXAXWCghcJ5HD9uWbQ', 'input': {'a': 29349, 'b': 2893479}, 'name': 'multiply', 'type': 'tool_use'}] additional_kwargs={} response_metadata={'id': 'msg_01FQ2Mgx6bGZBMG4dTByMZxn', 'model': 'claude-3-7-sonnet-20250219', 'stop_reason': 'tool_use', 'stop_sequence': None, 'usage': {'cache_creation_input_tokens': 0, 'cache_read_input_tokens': 0, 'input_tokens': 412, 'output_tokens': 91}} id='run-94c1fc68-00cb-4f24-b599-16d1d3bbb11f-0' tool_calls=[{'name': 'multiply', 'args': {'a': 29349, 'b': 2893479}, 'id': 'toolu_01NpjrBXAXWCghcJ5HD9uWbQ', 'type': 'tool_call'}] usage_metadata={'input_tokens': 412, 'output_tokens': 91, 'total_tokens': 503, 'input_token_details': {'cache_read': 0, 'cache_creation': 0}}\n",
      "GENAI_1\n",
      "default_name\n",
      "response\n",
      "The result of multiplying 29349 by 2893479 is 84,920,715,171.\n",
      "GENAI_1\n",
      "default_name\n"
     ]
    }
   ],
   "source": [
    "result = agent.stream_return_graph_state(\"what is 29349*2893479\")"
   ]
  },
  {
   "cell_type": "code",
   "execution_count": 7,
   "metadata": {},
   "outputs": [
    {
     "name": "stdout",
     "output_type": "stream",
     "text": [
      "The result of multiplying 29349 by 2893479 is 84,920,715,171.\n"
     ]
    }
   ],
   "source": [
    "print(result[\"messages_clean\"][-1].content)\n"
   ]
  },
  {
   "cell_type": "code",
   "execution_count": null,
   "metadata": {},
   "outputs": [],
   "source": [
    "agent.clear_memory()"
   ]
  },
  {
   "cell_type": "code",
   "execution_count": null,
   "metadata": {},
   "outputs": [],
   "source": []
  },
  {
   "cell_type": "code",
   "execution_count": null,
   "metadata": {},
   "outputs": [],
   "source": []
  }
 ],
 "metadata": {
  "kernelspec": {
   "display_name": "el-agente",
   "language": "python",
   "name": "python3"
  },
  "language_info": {
   "codemirror_mode": {
    "name": "ipython",
    "version": 3
   },
   "file_extension": ".py",
   "mimetype": "text/x-python",
   "name": "python",
   "nbconvert_exporter": "python",
   "pygments_lexer": "ipython3",
   "version": "3.11.8"
  }
 },
 "nbformat": 4,
 "nbformat_minor": 2
}
