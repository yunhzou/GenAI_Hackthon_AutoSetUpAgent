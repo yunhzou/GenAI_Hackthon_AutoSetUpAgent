{
 "cells": [
  {
   "cell_type": "code",
   "execution_count": null,
   "metadata": {
    "vscode": {
     "languageId": "plaintext"
    }
   },
   "outputs": [],
   "source": [
    "from EvoForge.Agent.task_splitter import TaskDecompositionAgent "
   ]
  },
  {
   "cell_type": "code",
   "execution_count": null,
   "metadata": {
    "vscode": {
     "languageId": "plaintext"
    }
   },
   "outputs": [],
   "source": [
    "agent = TaskDecompositionAgent(model=\"gpt-4o\", session_id=\"test_task_decomposition1\")\n",
    "agent.clear_memory()"
   ]
  },
  {
   "cell_type": "code",
   "execution_count": null,
   "metadata": {
    "vscode": {
     "languageId": "plaintext"
    }
   },
   "outputs": [],
   "source": [
    "agent.rewrite_system_message(\"You decompose task/multiple tasks into one by one subtasks. The current domain is each subtask should be a project setup task such as setting up a github repo or hugging face model. Each task should only be one repo/hugging face program. Plan in very general high level, you must include the full url of the repo/hugging face model.\")"
   ]
  },
  {
   "cell_type": "code",
   "execution_count": null,
   "metadata": {
    "vscode": {
     "languageId": "plaintext"
    }
   },
   "outputs": [],
   "source": [
    "response = agent.stream_return_graph_state(\"\"\"\n",
    "Read through this urls: https://huggingface.co/hexgrad/Kokoro-82M\n",
    "https://huggingface.co/myshell-ai/MeloTTS-Korean\n",
    "https://huggingface.co/facebook/mms-tts-yor\n",
    "https://huggingface.co/microsoft/speecht5_tts\n",
    "https://huggingface.co/suno/bark\n",
    "https://huggingface.co/facebook/mms-tts-eng\n",
    "https://huggingface.co/myshell-ai/MeloTTS-Chinese and create files for each to run each TTS models to produce an audio file. I want the text to be a fun joke. if the model does not seem to work even after trying your best, report the issues.\n",
    "\"\"\")"
   ]
  },
  {
   "cell_type": "code",
   "execution_count": null,
   "metadata": {
    "vscode": {
     "languageId": "plaintext"
    }
   },
   "outputs": [],
   "source": [
    "for step in response[\"plan\"][\"steps\"]:\n",
    "    print(\"task_name: \", step[\"task_name\"])\n",
    "    print(\"task_context: \", step[\"task_context\"])"
   ]
  },
  {
   "cell_type": "code",
   "execution_count": null,
   "metadata": {
    "vscode": {
     "languageId": "plaintext"
    }
   },
   "outputs": [],
   "source": [
    "tasks = response[\"plan\"][\"steps\"]\n",
    "\n",
    "\n",
    "from EvoForge import EvoForge  \n",
    "evoforge_client = EvoForge()\n",
    "def run_EvoForge_Agent(session:str,task:str):\n",
    "    agent = evoforge_client.spawn_setup_agent(session)\n",
    "    agent.clear_memory()\n",
    "    result = agent.stream_return_graph_state(task)\n",
    "    return result\n",
    "\n",
    "from concurrent.futures import ThreadPoolExecutor\n",
    "with ThreadPoolExecutor() as executor:\n",
    "    futures = [\n",
    "        executor.submit(run_EvoForge_Agent, task[\"task_name\"], task[\"task_context\"])\n",
    "        for task in tasks\n",
    "    ]\n",
    "    results = [future.result() for future in futures]\n"
   ]
  },
  {
   "cell_type": "code",
   "execution_count": null,
   "metadata": {
    "vscode": {
     "languageId": "plaintext"
    }
   },
   "outputs": [],
   "source": []
  },
  {
   "cell_type": "code",
   "execution_count": null,
   "metadata": {
    "vscode": {
     "languageId": "plaintext"
    }
   },
   "outputs": [],
   "source": []
  }
 ],
 "metadata": {
  "language_info": {
   "name": "python"
  }
 },
 "nbformat": 4,
 "nbformat_minor": 2
}
