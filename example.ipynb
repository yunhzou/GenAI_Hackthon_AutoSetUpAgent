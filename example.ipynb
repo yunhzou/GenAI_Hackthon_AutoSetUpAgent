{
 "cells": [
  {
   "cell_type": "code",
   "execution_count": null,
   "metadata": {},
   "outputs": [
    {
     "ename": "",
     "evalue": "",
     "output_type": "error",
     "traceback": [
      "\u001b[1;31mRunning cells with 'genai (Python 3.11.11)' requires the ipykernel package.\n",
      "\u001b[1;31mRun the following command to install 'ipykernel' into the Python environment. \n",
      "\u001b[1;31mCommand: 'conda install -n genai ipykernel --update-deps --force-reinstall'"
     ]
    }
   ],
   "source": [
    "%load_ext autoreload\n",
    "%autoreload 2"
   ]
  },
  {
   "cell_type": "code",
   "execution_count": 11,
   "metadata": {},
   "outputs": [],
   "source": [
    "from Agent import LangGraphAgent"
   ]
  },
  {
   "cell_type": "code",
   "execution_count": 12,
   "metadata": {},
   "outputs": [],
   "source": [
    "agent = LangGraphAgent(model=\"gpt-4o\",session_id=\"GENAI_0\")"
   ]
  },
  {
   "cell_type": "code",
   "execution_count": 13,
   "metadata": {},
   "outputs": [],
   "source": [
    "from Tool.tools import multiply"
   ]
  },
  {
   "cell_type": "code",
   "execution_count": 14,
   "metadata": {},
   "outputs": [],
   "source": [
    "agent.add_tool(multiply)"
   ]
  },
  {
   "cell_type": "code",
   "execution_count": 24,
   "metadata": {},
   "outputs": [
    {
     "name": "stdout",
     "output_type": "stream",
     "text": [
      "Tool call: multiply with args: {'a': 29349, 'b': 2893479}\n",
      "response\n",
      "content='' additional_kwargs={'tool_calls': [{'id': 'call_vrLCjexYDh2nMiA7iMrEELeP', 'function': {'arguments': '{\"a\":29349,\"b\":2893479}', 'name': 'multiply'}, 'type': 'function'}], 'refusal': None} response_metadata={'token_usage': {'completion_tokens': 21, 'prompt_tokens': 228, 'total_tokens': 249, 'completion_tokens_details': {'accepted_prediction_tokens': 0, 'audio_tokens': 0, 'reasoning_tokens': 0, 'rejected_prediction_tokens': 0}, 'prompt_tokens_details': {'audio_tokens': 0, 'cached_tokens': 0}}, 'model_name': 'gpt-4o-2024-08-06', 'system_fingerprint': 'fp_6ec83003ad', 'finish_reason': 'tool_calls', 'logprobs': None} id='run-9f7e1512-d890-4b4e-bda1-1997cd25cbbb-0' tool_calls=[{'name': 'multiply', 'args': {'a': 29349, 'b': 2893479}, 'id': 'call_vrLCjexYDh2nMiA7iMrEELeP', 'type': 'tool_call'}] usage_metadata={'input_tokens': 228, 'output_tokens': 21, 'total_tokens': 249, 'input_token_details': {'audio': 0, 'cache_read': 0}, 'output_token_details': {'audio': 0, 'reasoning': 0}}\n",
      "GENAI_0\n",
      "default_name\n",
      "response\n",
      "The result of multiplying 29349 by 2893479 is 84,920,715,171.\n",
      "GENAI_0\n",
      "default_name\n"
     ]
    }
   ],
   "source": [
    "result = agent.stream_return_graph_state(\"what is 29349*2893479\")"
   ]
  },
  {
   "cell_type": "code",
   "execution_count": 28,
   "metadata": {},
   "outputs": [
    {
     "name": "stdout",
     "output_type": "stream",
     "text": [
      "The result of multiplying 29349 by 2893479 is 84,920,715,171.\n"
     ]
    }
   ],
   "source": [
    "print(result[\"messages_clean\"][-1].content)\n"
   ]
  },
  {
   "cell_type": "code",
   "execution_count": 26,
   "metadata": {},
   "outputs": [
    {
     "name": "stdout",
     "output_type": "stream",
     "text": [
      "Deleted 8 documents from 'checkpoints' collection for thread_id 'GENAI_0'.\n",
      "Deleted 23 documents from 'checkpoint_writes' collection for thread_id 'GENAI_0'.\n"
     ]
    }
   ],
   "source": [
    "agent.clear_memory()"
   ]
  }
 ],
 "metadata": {
  "kernelspec": {
   "display_name": "genai",
   "language": "python",
   "name": "python3"
  },
  "language_info": {
   "codemirror_mode": {
    "name": "ipython",
    "version": 3
   },
   "file_extension": ".py",
   "mimetype": "text/x-python",
   "name": "python",
   "nbconvert_exporter": "python",
   "pygments_lexer": "ipython3",
   "version": "3.11.11"
  }
 },
 "nbformat": 4,
 "nbformat_minor": 2
}
