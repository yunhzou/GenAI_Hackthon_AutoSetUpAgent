{
 "cells": [
  {
   "cell_type": "code",
   "execution_count": 1,
   "metadata": {},
   "outputs": [
    {
     "name": "stdout",
     "output_type": "stream",
     "text": [
      "yunhengzou@mariana:~/genaihackthon$ PROMPT$ "
     ]
    }
   ],
   "source": [
    "from Tool.tools import execute_shell_command"
   ]
  },
  {
   "cell_type": "code",
   "execution_count": 2,
   "metadata": {},
   "outputs": [
    {
     "name": "stdout",
     "output_type": "stream",
     "text": [
      "  Name  Active  Path                                        \n",
      "──────────────────────────────────────────────────────────────\n",
      "                /h/327/yunhengzou/.conda/envs/AgentNet      \n",
      "                /h/327/yunhengzou/micromamba/envs/AgentNet  \n",
      "  base          /h/328/yunhengzou/micromamba                \n",
      "                /h/399/yunhengzou/.conda/envs/AgentNet      \n",
      "                /h/399/yunhengzou/micromamba/envs/chatmol   \n",
      "                /h/399/yunhengzou/micromamba/envs/el-agente \n",
      "        *       /h/399/yunhengzou/micromamba/envs/genai     \n",
      "                /h/399/yunhengzou/micromamba/envs/open_manus\n",
      "PROMPT$ "
     ]
    },
    {
     "data": {
      "text/plain": [
       "'Name  Active  Path                                        \\r\\n──────────────────────────────────────────────────────────────\\r\\n                /h/327/yunhengzou/.conda/envs/AgentNet      \\r\\n                /h/327/yunhengzou/micromamba/envs/AgentNet  \\r\\n  base          /h/328/yunhengzou/micromamba                \\r\\n                /h/399/yunhengzou/.conda/envs/AgentNet      \\r\\n                /h/399/yunhengzou/micromamba/envs/chatmol   \\r\\n                /h/399/yunhengzou/micromamba/envs/el-agente \\r\\n        *       /h/399/yunhengzou/micromamba/envs/genai     \\r\\n                /h/399/yunhengzou/micromamba/envs/open_manus'"
      ]
     },
     "execution_count": 2,
     "metadata": {},
     "output_type": "execute_result"
    }
   ],
   "source": [
    "execute_shell_command.func(shell_command = \"micromamba env list\")"
   ]
  },
  {
   "cell_type": "code",
   "execution_count": null,
   "metadata": {},
   "outputs": [],
   "source": []
  },
  {
   "cell_type": "code",
   "execution_count": null,
   "metadata": {},
   "outputs": [],
   "source": []
  },
  {
   "cell_type": "code",
   "execution_count": null,
   "metadata": {},
   "outputs": [],
   "source": []
  },
  {
   "cell_type": "code",
   "execution_count": null,
   "metadata": {},
   "outputs": [],
   "source": []
  }
 ],
 "metadata": {
  "kernelspec": {
   "display_name": "genai",
   "language": "python",
   "name": "python3"
  },
  "language_info": {
   "codemirror_mode": {
    "name": "ipython",
    "version": 3
   },
   "file_extension": ".py",
   "mimetype": "text/x-python",
   "name": "python",
   "nbconvert_exporter": "python",
   "pygments_lexer": "ipython3",
   "version": "3.11.11"
  }
 },
 "nbformat": 4,
 "nbformat_minor": 2
}
