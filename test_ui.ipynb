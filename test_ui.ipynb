{
 "cells": [
  {
   "cell_type": "code",
   "execution_count": 1,
   "metadata": {},
   "outputs": [],
   "source": [
    "import threading\n",
    "import time\n",
    "import pymongo\n",
    "import os \n",
    "mongo_url = os.getenv('MONGODB_URL')\n",
    "# MongoDB setup\n",
    "client = pymongo.MongoClient(mongo_url)\n",
    "db = client[\"chat_history\"]\n",
    "collection = db[\"agent_history\"]\n",
    "\n",
    "# Get distinct thread_ids\n",
    "thread_ids = collection.distinct(\"thread_id\")"
   ]
  },
  {
   "cell_type": "code",
   "execution_count": 2,
   "metadata": {},
   "outputs": [
    {
     "name": "stdout",
     "output_type": "stream",
     "text": [
      "['0157d38c-2f06-4e67-a74e-703504c64d5b', '022a5a64-7016-4bb4-89ae-a9f36224df81', '02e2503a-0053-4a73-bdb3-2332bbe7413c', '07deb3ab-ddbb-4494-8fc1-ba0c814e403c', '08496d8b-8513-474d-a929-adce298ef5b7', '09666952-0245-454c-8db2-ae91237c4d8d', '10', '11', '12', '127b13ae-f0fd-465e-9045-87f110851254', '13', '135a9be5-16a3-4f36-bdd4-98856e940d41', '14', '147da284-0b3b-4ed7-9d09-92ecd8121777', '15', '16db9130-3acf-4c72-8dc7-9800ac1193e5', '178a11a7-a208-4ece-ad19-98f42f38d415', '17b0442c-3456-4947-bdfb-3ad9559c09d4', '17b72bb1-12a5-4748-95a1-b1c513cfda2d', '1cdabefa-253b-4d2f-bcc3-daedd2a33898', '1f4b13bc-494a-4392-af2d-edf1c2f1bf9a', '22abfadf-7d55-4613-b443-56e2a58eef71', '25', '26', '27', '28', '29384', '29a4f1fc-834f-4621-ae1b-78c38231135c', '2e251b71-8e83-4a88-b4fe-7d5ba290dcab', '2fc4d3fb-bee8-4c09-98ec-41c19dbb129c', '30', '31', '3103921f-5eef-4fa8-a65e-39427cebf340', '33', '34f5bedf-884d-4d65-95fc-5036d521735c', '35', '36', '37', '38cddebf-1bef-46b3-9105-4e93c709d0ec', '3b95c212-9c2c-4b90-9e55-a5bf3daf5187', '40f4f476-81ef-4d3e-b493-05e4bd90cc88', '4aed8c98-a39c-4155-ab9c-88ba4514f586', '6aa2aab8-5d8c-470b-a34c-7ad6e2a7444d', '6d3cf20b-7ad6-412f-8e35-b49d5062cb1b', '7495eda3-c719-4e1f-9771-ee706b5bcbcd', '7c712e0c-181f-4273-a031-fd226a9f2999', '862cc9ea-008a-4421-ba26-abf58abdc688', '8b5be087-8ea4-4439-885c-beb6c77943ec', '95d92c0a-a030-4bb9-bee5-b34e4bc39ec8', '991d7856-2895-4daf-bab7-1f45def0021f', '9c7c6828-d526-467e-a992-82d08b2bf2ac', 'AgentSession2025-03-04', 'EvoForge1', 'GENAI_0', 'GENAI_1', 'GENAI_2', 'GENAI_3', 'GENAI_5', 'Setup Bark TTS Model', 'Setup Kokoro-82M TTS Model', 'Setup MMS-TTS-Eng TTS Model', 'Setup MMS-TTS-Yor TTS Model', 'Setup MeloTTS-Chinese TTS Model', 'Setup MeloTTS-Korean TTS Model', 'Setup SpeechT5 TTS Model', 'Test ConvNeXt-Tiny Model', 'Test DeiT-Tiny Model', 'Test DenseNet-121 Model', 'Test Swin-Tiny Model', 'Test ViT-Base Model', 'Test convnext-tiny model', 'Test deit-tiny model', 'Test densenet-121 model', 'Test efficientnet-b0 model', 'Test mobilenet-v2 model', 'Test mobilevit-small model', 'Test resnet-18 model', 'Test resnet-50 model', 'Test swin-tiny model', 'Test vit-base model', 'a216feed-1b6c-4c6d-b406-ad52fb1021a7', 'a2692bf3-4e27-4a8e-adb0-7730cdce9853', 'a7227b57-aaa3-4aa7-9da9-82d135ad41a3', 'af677636-9fac-41c0-a80a-2a3b405b0253', 'b0cd7968-ea05-44bc-9ecf-f8edf859d146', 'b23f7e81-870a-48c0-ab15-d2bdde817147', 'c1d71ccd-0e7f-4183-b9da-b1829e2f65ac', 'c47dd3a9-ea60-4a65-a41b-3219e521bc89', 'c76b2aa9-7335-4906-ace1-d6c0c8abd573', 'cc49cc14-2701-4aff-9e59-cf809a966d12', 'cc682be1-d858-43f9-9113-0b9a51660628', 'cf705191-3e50-4aad-9cff-70357fec07e2', 'd2040545-a7d3-4fa3-98d9-2ea210e7bcb6', 'd2b3924e-abf7-4a91-b636-9d216cb0b344', 'd7d6a605-7619-42d6-b222-7da7e1354137', 'e2234d5b-d4d3-424d-85b3-9f32e4ccd2f6', 'e3aa4f3d-bb1f-415b-af37-a6b959bffd35', 'e3f3c2da-3347-431e-ab76-c0551adb5cbe', 'e4dd5e39-ac0c-4322-bfed-36fe97d070ee', 'ed792bd9-9cf9-4fc1-872a-52180e731b3c', 'f0cd831a-aa62-4295-93e1-b9cc5a55ad38', 'f0ec39f7-22fe-463b-a374-aab8f4a2f2d0', 'f2dcc769-84a5-4960-8be3-92b78388811d', 'f3b7f48f-641b-4d3b-9bcb-2ea680fd81ec', 'f978215a-5f5e-4008-8807-4867a0751eab', 'fe77f9cd-23f2-41f0-be3f-ec23e62fa23c', 'fed05e67-2489-4e38-b02a-98a06f31204a', 'root', 'temporal_memory_agent', 'temporal_memory_agent_test', 'temporal_memory_agent_test1', 'temporal_memory_agent_test2', 'temporal_memory_agent_test3', 'temporary_memory_agent', 'test1', 'test_claude_0', 'test_claude_1', 'test_claude_10', 'test_claude_11', 'test_claude_13', 'test_claude_2', 'test_claude_4', 'test_claude_8', 'test_google', 'test_google2', 'test_google20', 'test_google203', 'test_google205', 'test_google206', 'test_google207', 'test_google208', 'test_google21', 'test_google210', 'test_google2101', 'test_google2102', 'test_google2103', 'test_google2104', 'test_google2105', 'test_google21050', 'test_google21051', 'test_google21058', 'test_google21059', 'test_google2106', 'test_google21060', 'test_google21061', 'test_google21062', 'test_google21078', 'test_google21079', 'test_google21080']\n"
     ]
    }
   ],
   "source": [
    "print(thread_ids)"
   ]
  },
  {
   "cell_type": "code",
   "execution_count": null,
   "metadata": {},
   "outputs": [],
   "source": [
    "cut_off_time = "
   ]
  },
  {
   "cell_type": "code",
   "execution_count": null,
   "metadata": {},
   "outputs": [],
   "source": [
    "from pymongo import MongoClient\n",
    "\n",
    "client = MongoClient(\"mongodb://localhost:27017/\")\n",
    "db = client[\"your_database\"]\n",
    "collection = db[\"your_collection\"]\n",
    "\n",
    "distinct_values = collection.distinct(\"your_field_name\")\n",
    "print(distinct_values)"
   ]
  },
  {
   "cell_type": "code",
   "execution_count": null,
   "metadata": {},
   "outputs": [],
   "source": [
    "thread_ids"
   ]
  },
  {
   "cell_type": "code",
   "execution_count": null,
   "metadata": {},
   "outputs": [],
   "source": []
  },
  {
   "cell_type": "code",
   "execution_count": null,
   "metadata": {},
   "outputs": [],
   "source": []
  },
  {
   "cell_type": "code",
   "execution_count": null,
   "metadata": {},
   "outputs": [],
   "source": []
  },
  {
   "cell_type": "code",
   "execution_count": null,
   "metadata": {},
   "outputs": [],
   "source": []
  },
  {
   "cell_type": "code",
   "execution_count": null,
   "metadata": {},
   "outputs": [],
   "source": []
  }
 ],
 "metadata": {
  "kernelspec": {
   "display_name": "genai",
   "language": "python",
   "name": "python3"
  },
  "language_info": {
   "codemirror_mode": {
    "name": "ipython",
    "version": 3
   },
   "file_extension": ".py",
   "mimetype": "text/x-python",
   "name": "python",
   "nbconvert_exporter": "python",
   "pygments_lexer": "ipython3",
   "version": "3.11.11"
  }
 },
 "nbformat": 4,
 "nbformat_minor": 2
}
